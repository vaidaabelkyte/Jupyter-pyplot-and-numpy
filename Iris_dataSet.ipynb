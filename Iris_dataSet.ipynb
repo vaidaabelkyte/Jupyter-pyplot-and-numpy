{
 "cells": [
  {
   "cell_type": "code",
   "execution_count": 26,
   "metadata": {
    "collapsed": false
   },
   "outputs": [
    {
     "name": "stdout",
     "output_type": "stream",
     "text": [
      "['5.1', '0.222222222', '3.5', '0.625', '1.4', '0.06779661', '0.2', '0.041666667', 'setosa']\n",
      "['4.9', '0.166666667', '3', '0.416666667', '1.4', '0.06779661', '0.2', '0.041666667', 'setosa']\n",
      "['4.7', '0.111111111', '3.2', '0.5', '1.3', '0.050847458', '0.2', '0.041666667', 'setosa']\n",
      "['4.6', '0.083333333', '3.1', '0.458333333', '1.5', '0.084745763', '0.2', '0.041666667', 'setosa']\n",
      "['5', '0.194444444', '3.6', '0.666666667', '1.4', '0.06779661', '0.2', '0.041666667', 'setosa']\n",
      "['5.4', '0.305555556', '3.9', '0.791666667', '1.7', '0.118644068', '0.4', '0.125', 'setosa']\n",
      "['4.6', '0.083333333', '3.4', '0.583333333', '1.4', '0.06779661', '0.3', '0.083333333', 'setosa']\n",
      "['5', '0.194444444', '3.4', '0.583333333', '1.5', '0.084745763', '0.2', '0.041666667', 'setosa']\n",
      "['4.4', '0.027777778', '2.9', '0.375', '1.4', '0.06779661', '0.2', '0.041666667', 'setosa']\n",
      "['4.9', '0.166666667', '3.1', '0.458333333', '1.5', '0.084745763', '0.1', '0.01', 'setosa']\n",
      "['5.4', '0.305555556', '3.7', '0.708333333', '1.5', '0.084745763', '0.2', '0.041666667', 'setosa']\n",
      "['4.8', '0.138888889', '3.4', '0.583333333', '1.6', '0.101694915', '0.2', '0.041666667', 'setosa']\n",
      "['4.8', '0.138888889', '3', '0.416666667', '1.4', '0.06779661', '0.1', '0.01', 'setosa']\n",
      "['4.3', '0.01', '3', '0.416666667', '1.1', '0.016949153', '0.1', '0.01', 'setosa']\n",
      "['5.8', '0.416666667', '4', '0.833333333', '1.2', '0.033898305', '0.2', '0.041666667', 'setosa']\n",
      "['5.7', '0.388888889', '4.4', '0.9999', '1.5', '0.084745763', '0.4', '0.125', 'setosa']\n",
      "['5.4', '0.305555556', '3.9', '0.791666667', '1.3', '0.050847458', '0.4', '0.125', 'setosa']\n",
      "['5.1', '0.222222222', '3.5', '0.625', '1.4', '0.06779661', '0.3', '0.083333333', 'setosa']\n",
      "['5.7', '0.388888889', '3.8', '0.75', '1.7', '0.118644068', '0.3', '0.083333333', 'setosa']\n",
      "['5.1', '0.222222222', '3.8', '0.75', '1.5', '0.084745763', '0.3', '0.083333333', 'setosa']\n",
      "['5.4', '0.305555556', '3.4', '0.583333333', '1.7', '0.118644068', '0.2', '0.041666667', 'setosa']\n",
      "['5.1', '0.222222222', '3.7', '0.708333333', '1.5', '0.084745763', '0.4', '0.125', 'setosa']\n",
      "['4.6', '0.083333333', '3.6', '0.666666667', '1', '0.01', '0.2', '0.041666667', 'setosa']\n",
      "['5.1', '0.222222222', '3.3', '0.541666667', '1.7', '0.118644068', '0.5', '0.166666667', 'setosa']\n",
      "['4.8', '0.138888889', '3.4', '0.583333333', '1.9', '0.152542373', '0.2', '0.041666667', 'setosa']\n",
      "['5', '0.194444444', '3', '0.416666667', '1.6', '0.101694915', '0.2', '0.041666667', 'setosa']\n",
      "['5', '0.194444444', '3.4', '0.583333333', '1.6', '0.101694915', '0.4', '0.125', 'setosa']\n",
      "['5.2', '0.25', '3.5', '0.625', '1.5', '0.084745763', '0.2', '0.041666667', 'setosa']\n",
      "['5.2', '0.25', '3.4', '0.583333333', '1.4', '0.06779661', '0.2', '0.041666667', 'setosa']\n",
      "['4.7', '0.111111111', '3.2', '0.5', '1.6', '0.101694915', '0.2', '0.041666667', 'setosa']\n",
      "['4.8', '0.138888889', '3.1', '0.458333333', '1.6', '0.101694915', '0.2', '0.041666667', 'setosa']\n",
      "['5.4', '0.305555556', '3.4', '0.583333333', '1.5', '0.084745763', '0.4', '0.125', 'setosa']\n",
      "['7', '0.75', '3.2', '0.5', '4.7', '0.627118644', '1.4', '0.541666667', 'versicolor']\n",
      "['6.4', '0.583333333', '3.2', '0.5', '4.5', '0.593220339', '1.5', '0.583333333', 'versicolor']\n",
      "['6.9', '0.722222222', '3.1', '0.458333333', '4.9', '0.661016949', '1.5', '0.583333333', 'versicolor']\n",
      "['5.5', '0.333333333', '2.3', '0.125', '4', '0.508474576', '1.3', '0.5', 'versicolor']\n",
      "['6.5', '0.611111111', '2.8', '0.333333333', '4.6', '0.610169492', '1.5', '0.583333333', 'versicolor']\n",
      "['5.7', '0.388888889', '2.8', '0.333333333', '4.5', '0.593220339', '1.3', '0.5', 'versicolor']\n",
      "['6.3', '0.555555556', '3.3', '0.541666667', '4.7', '0.627118644', '1.6', '0.625', 'versicolor']\n",
      "['4.9', '0.166666667', '2.4', '0.166666667', '3.3', '0.389830508', '1', '0.375', 'versicolor']\n",
      "['6.6', '0.638888889', '2.9', '0.375', '4.6', '0.610169492', '1.3', '0.5', 'versicolor']\n",
      "['5.2', '0.25', '2.7', '0.291666667', '3.9', '0.491525424', '1.4', '0.541666667', 'versicolor']\n",
      "['5', '0.194444444', '2', '0.01', '3.5', '0.423728814', '1', '0.375', 'versicolor']\n",
      "['5.9', '0.444444444', '3', '0.416666667', '4.2', '0.542372881', '1.5', '0.583333333', 'versicolor']\n",
      "['6', '0.472222222', '2.2', '0.083333333', '4', '0.508474576', '1', '0.375', 'versicolor']\n",
      "['6.1', '0.5', '2.9', '0.375', '4.7', '0.627118644', '1.4', '0.541666667', 'versicolor']\n",
      "['5.6', '0.361111111', '2.9', '0.375', '3.6', '0.440677966', '1.3', '0.5', 'versicolor']\n",
      "['6.7', '0.666666667', '3.1', '0.458333333', '4.4', '0.576271186', '1.4', '0.541666667', 'versicolor']\n",
      "['5.6', '0.361111111', '3', '0.416666667', '4.5', '0.593220339', '1.5', '0.583333333', 'versicolor']\n",
      "['5.8', '0.416666667', '2.7', '0.291666667', '4.1', '0.525423729', '1', '0.375', 'versicolor']\n",
      "['6.2', '0.527777778', '2.2', '0.083333333', '4.5', '0.593220339', '1.5', '0.583333333', 'versicolor']\n",
      "['5.6', '0.361111111', '2.5', '0.208333333', '3.9', '0.491525424', '1.1', '0.416666667', 'versicolor']\n",
      "['5.9', '0.444444444', '3.2', '0.5', '4.8', '0.644067797', '1.8', '0.708333333', 'versicolor']\n",
      "['6.1', '0.5', '2.8', '0.333333333', '4', '0.508474576', '1.3', '0.5', 'versicolor']\n",
      "['6.3', '0.555555556', '2.5', '0.208333333', '4.9', '0.661016949', '1.5', '0.583333333', 'versicolor']\n",
      "['6.1', '0.5', '2.8', '0.333333333', '4.7', '0.627118644', '1.2', '0.458333333', 'versicolor']\n",
      "['6.4', '0.583333333', '2.9', '0.375', '4.3', '0.559322034', '1.3', '0.5', 'versicolor']\n",
      "['6.6', '0.638888889', '3', '0.416666667', '4.4', '0.576271186', '1.4', '0.541666667', 'versicolor']\n",
      "['6.8', '0.694444444', '2.8', '0.333333333', '4.8', '0.644067797', '1.4', '0.541666667', 'versicolor']\n",
      "['6.7', '0.666666667', '3', '0.416666667', '5', '0.677966102', '1.7', '0.666666667', 'versicolor']\n",
      "['6', '0.472222222', '2.9', '0.375', '4.5', '0.593220339', '1.5', '0.583333333', 'versicolor']\n",
      "['5.7', '0.388888889', '2.6', '0.25', '3.5', '0.423728814', '1', '0.375', 'versicolor']\n",
      "['5.5', '0.333333333', '2.4', '0.166666667', '3.8', '0.474576271', '1.1', '0.416666667', 'versicolor']\n",
      "['5.5', '0.333333333', '2.4', '0.166666667', '3.7', '0.457627119', '1', '0.375', 'versicolor']\n",
      "['5.8', '0.416666667', '2.7', '0.291666667', '3.9', '0.491525424', '1.2', '0.458333333', 'versicolor']\n",
      "['6', '0.472222222', '2.7', '0.291666667', '5.1', '0.694915254', '1.6', '0.625', 'versicolor']\n",
      "['6.3', '0.555555556', '3.3', '0.541666667', '6', '0.847457627', '2.5', '0.9999', 'virginica']\n",
      "['5.8', '0.416666667', '2.7', '0.291666667', '5.1', '0.694915254', '1.9', '0.75', 'virginica']\n",
      "['7.1', '0.777777778', '3', '0.416666667', '5.9', '0.830508475', '2.1', '0.833333333', 'virginica']\n",
      "['6.3', '0.555555556', '2.9', '0.375', '5.6', '0.779661017', '1.8', '0.708333333', 'virginica']\n",
      "['6.5', '0.611111111', '3', '0.416666667', '5.8', '0.813559322', '2.2', '0.875', 'virginica']\n",
      "['7.6', '0.916666667', '3', '0.416666667', '6.6', '0.949152542', '2.1', '0.833333333', 'virginica']\n",
      "['4.9', '0.166666667', '2.5', '0.208333333', '4.5', '0.593220339', '1.7', '0.666666667', 'virginica']\n",
      "['7.3', '0.833333333', '2.9', '0.375', '6.3', '0.898305085', '1.8', '0.708333333', 'virginica']\n",
      "['6.7', '0.666666667', '2.5', '0.208333333', '5.8', '0.813559322', '1.8', '0.708333333', 'virginica']\n",
      "['7.2', '0.805555556', '3.6', '0.666666667', '6.1', '0.86440678', '2.5', '0.9999', 'virginica']\n",
      "['6.5', '0.611111111', '3.2', '0.5', '5.1', '0.694915254', '2', '0.791666667', 'virginica']\n",
      "['6.4', '0.583333333', '2.7', '0.291666667', '5.3', '0.728813559', '1.9', '0.75', 'virginica']\n",
      "['6.8', '0.694444444', '3', '0.416666667', '5.5', '0.762711864', '2.1', '0.833333333', 'virginica']\n",
      "['5.7', '0.388888889', '2.5', '0.208333333', '5', '0.677966102', '2', '0.791666667', 'virginica']\n",
      "['5.8', '0.416666667', '2.8', '0.333333333', '5.1', '0.694915254', '2.4', '0.958333333', 'virginica']\n",
      "['6.4', '0.583333333', '3.2', '0.5', '5.3', '0.728813559', '2.3', '0.916666667', 'virginica']\n",
      "['6.5', '0.611111111', '3', '0.416666667', '5.5', '0.762711864', '1.8', '0.708333333', 'virginica']\n",
      "['7.7', '0.944444444', '3.8', '0.75', '6.7', '0.966101695', '2.2', '0.875', 'virginica']\n",
      "['7.7', '0.944444444', '2.6', '0.25', '6.9', '0.9999', '2.3', '0.916666667', 'virginica']\n",
      "['6', '0.472222222', '2.2', '0.083333333', '5', '0.677966102', '1.5', '0.583333333', 'virginica']\n",
      "['6.9', '0.722222222', '3.2', '0.5', '5.7', '0.796610169', '2.3', '0.916666667', 'virginica']\n",
      "['5.6', '0.361111111', '2.8', '0.333333333', '4.9', '0.661016949', '2', '0.791666667', 'virginica']\n",
      "['7.7', '0.944444444', '2.8', '0.333333333', '6.7', '0.966101695', '2', '0.791666667', 'virginica']\n",
      "['6.3', '0.555555556', '2.7', '0.291666667', '4.9', '0.661016949', '1.8', '0.708333333', 'virginica']\n",
      "['6.7', '0.666666667', '3.3', '0.541666667', '5.7', '0.796610169', '2.1', '0.833333333', 'virginica']\n",
      "['7.2', '0.805555556', '3.2', '0.5', '6', '0.847457627', '1.8', '0.708333333', 'virginica']\n",
      "['6.2', '0.527777778', '2.8', '0.333333333', '4.8', '0.644067797', '1.8', '0.708333333', 'virginica']\n",
      "['6.1', '0.5', '3', '0.416666667', '4.9', '0.661016949', '1.8', '0.708333333', 'virginica']\n",
      "['6.4', '0.583333333', '2.8', '0.333333333', '5.6', '0.779661017', '2.1', '0.833333333', 'virginica']\n",
      "['7.2', '0.805555556', '3', '0.416666667', '5.8', '0.813559322', '1.6', '0.625', 'virginica']\n",
      "['7.4', '0.861111111', '2.8', '0.333333333', '6.1', '0.86440678', '1.9', '0.75', 'virginica']\n",
      "['7.9', '0.9999', '3.8', '0.75', '6.4', '0.915254237', '2', '0.791666667', 'virginica']\n",
      "['6.4', '0.583333333', '2.8', '0.333333333', '5.6', '0.779661017', '2.2', '0.875', 'virginica']\n",
      "['6.3', '0.555555556', '2.8', '0.333333333', '5.1', '0.694915254', '1.5', '0.583333333', 'virginica']\n"
     ]
    }
   ],
   "source": [
    "import csv\n",
    "\n",
    "filename = 'IRIS.csv'\n",
    "sLen = []\n",
    "sWid = []\n",
    "pLen = []\n",
    "pWid = []\n",
    "classification = []\n",
    "\n",
    "with open(filename, 'rt') as f:\n",
    "    dataFile = csv.reader(f)\n",
    "    for row in dataFile:\n",
    "\n",
    "        print(row)"
   ]
  },
  {
   "cell_type": "code",
   "execution_count": 28,
   "metadata": {
    "collapsed": false
   },
   "outputs": [
    {
     "name": "stdout",
     "output_type": "stream",
     "text": [
      "hello world\n"
     ]
    }
   ],
   "source": [
    "print (\"hello world\")"
   ]
  },
  {
   "cell_type": "code",
   "execution_count": 33,
   "metadata": {
    "collapsed": false
   },
   "outputs": [],
   "source": [
    "import numpy as np\n",
    "csv = np.genfromtxt ('IRIS.csv', delimiter=\",\")\n"
   ]
  },
  {
   "cell_type": "markdown",
   "metadata": {},
   "source": [
    "<h1>IRIS Data Set</h1>\n",
    "\n",
    "<h2>Problem set 3 part 2 </h2>\n",
    "\n",
    "<p>The data set consists of 50 samples from each of three species of Iris (Iris setosa, Iris virginica and Iris versicolor). Four features were measured from each sample: the length and the width of the sepals and petals, in centimetres. Based on the combination of these four features, Fisher developed a linear discriminant model to distinguish the species from each other.</p>\n",
    "\n",
    "\n",
    "<h3>Use of the data set</h3>\n",
    "\n",
    "<blockquote>\n",
    "    <h3>Based on Fisher's linear discriminant model, this data set became a typical test case for many statistical classification techniques in [machine learning](https://en.wikipedia.org/wiki/Machine_learning) such as support vector machines.</h3>\n",
    "\n",
    "    <p>This is the second paragraph in the blockquote.</p>\n",
    "\n",
    "    <p>The use of this data set in cluster analysis however is not common, since the data set only contains two clusters with rather obvious separation. One of the clusters contains Iris setosa, while the other cluster contains both Iris virginica and Iris versicolor and is not separable without the species information Fisher used. This makes the data set a good example to explain the difference between supervised and unsupervised techniques in data mining: Fisher's linear discriminant model can only be obtained when the object species are known: class labels and clusters are not necessarily the same.</p>\n",
    "</blockquote>\n",
    "\n",
    "<p>[https://en.wikipedia.org/wiki/Iris_flower_data_set](https://en.wikipedia.org/wiki/Iris_flower_data_set)</p>\n"
   ]
  },
  {
   "cell_type": "code",
   "execution_count": 49,
   "metadata": {
    "collapsed": false
   },
   "outputs": [
    {
     "data": {
      "text/plain": [
       "'0.17.1'"
      ]
     },
     "execution_count": 49,
     "metadata": {},
     "output_type": "execute_result"
    }
   ],
   "source": [
    "import sklearn\n",
    "sklearn.__version__"
   ]
  },
  {
   "cell_type": "code",
   "execution_count": 1,
   "metadata": {
    "collapsed": false
   },
   "outputs": [
    {
     "name": "stdout",
     "output_type": "stream",
     "text": [
      "['Sepal.Length', 'Sepal.Width', 'Petal.Length', 'Petal.Width', 'Species']\n",
      "['5.1', '3.5', '1.4', '0.2', 'setosa']\n",
      "['4.9', '3', '1.4', '0.2', 'setosa']\n",
      "['4.7', '3.2', '1.3', '0.2', 'setosa']\n",
      "['4.6', '3.1', '1.5', '0.2', 'setosa']\n",
      "['5', '3.6', '1.4', '0.2', 'setosa']\n",
      "['5.4', '3.9', '1.7', '0.4', 'setosa']\n",
      "['4.6', '3.4', '1.4', '0.3', 'setosa']\n",
      "['5', '3.4', '1.5', '0.2', 'setosa']\n",
      "['4.4', '2.9', '1.4', '0.2', 'setosa']\n",
      "['4.9', '3.1', '1.5', '0.1', 'setosa']\n",
      "['5.4', '3.7', '1.5', '0.2', 'setosa']\n",
      "['4.8', '3.4', '1.6', '0.2', 'setosa']\n",
      "['4.8', '3', '1.4', '0.1', 'setosa']\n",
      "['4.3', '3', '1.1', '0.1', 'setosa']\n",
      "['5.8', '4', '1.2', '0.2', 'setosa']\n",
      "['5.7', '4.4', '1.5', '0.4', 'setosa']\n",
      "['5.4', '3.9', '1.3', '0.4', 'setosa']\n",
      "['5.1', '3.5', '1.4', '0.3', 'setosa']\n",
      "['5.7', '3.8', '1.7', '0.3', 'setosa']\n",
      "['5.1', '3.8', '1.5', '0.3', 'setosa']\n",
      "['5.4', '3.4', '1.7', '0.2', 'setosa']\n",
      "['5.1', '3.7', '1.5', '0.4', 'setosa']\n",
      "['4.6', '3.6', '1', '0.2', 'setosa']\n",
      "['5.1', '3.3', '1.7', '0.5', 'setosa']\n",
      "['4.8', '3.4', '1.9', '0.2', 'setosa']\n",
      "['5', '3', '1.6', '0.2', 'setosa']\n",
      "['5', '3.4', '1.6', '0.4', 'setosa']\n",
      "['5.2', '3.5', '1.5', '0.2', 'setosa']\n",
      "['5.2', '3.4', '1.4', '0.2', 'setosa']\n",
      "['4.7', '3.2', '1.6', '0.2', 'setosa']\n",
      "['4.8', '3.1', '1.6', '0.2', 'setosa']\n",
      "['5.4', '3.4', '1.5', '0.4', 'setosa']\n",
      "['5.2', '4.1', '1.5', '0.1', 'setosa']\n",
      "['5.5', '4.2', '1.4', '0.2', 'setosa']\n",
      "['4.9', '3.1', '1.5', '0.2', 'setosa']\n",
      "['5', '3.2', '1.2', '0.2', 'setosa']\n",
      "['5.5', '3.5', '1.3', '0.2', 'setosa']\n",
      "['4.9', '3.6', '1.4', '0.1', 'setosa']\n",
      "['4.4', '3', '1.3', '0.2', 'setosa']\n",
      "['5.1', '3.4', '1.5', '0.2', 'setosa']\n",
      "['5', '3.5', '1.3', '0.3', 'setosa']\n",
      "['4.5', '2.3', '1.3', '0.3', 'setosa']\n",
      "['4.4', '3.2', '1.3', '0.2', 'setosa']\n",
      "['5', '3.5', '1.6', '0.6', 'setosa']\n",
      "['5.1', '3.8', '1.9', '0.4', 'setosa']\n",
      "['4.8', '3', '1.4', '0.3', 'setosa']\n",
      "['5.1', '3.8', '1.6', '0.2', 'setosa']\n",
      "['4.6', '3.2', '1.4', '0.2', 'setosa']\n",
      "['5.3', '3.7', '1.5', '0.2', 'setosa']\n",
      "['5', '3.3', '1.4', '0.2', 'setosa']\n",
      "['7', '3.2', '4.7', '1.4', 'versicolor']\n",
      "['6.4', '3.2', '4.5', '1.5', 'versicolor']\n",
      "['6.9', '3.1', '4.9', '1.5', 'versicolor']\n",
      "['5.5', '2.3', '4', '1.3', 'versicolor']\n",
      "['6.5', '2.8', '4.6', '1.5', 'versicolor']\n",
      "['5.7', '2.8', '4.5', '1.3', 'versicolor']\n",
      "['6.3', '3.3', '4.7', '1.6', 'versicolor']\n",
      "['4.9', '2.4', '3.3', '1', 'versicolor']\n",
      "['6.6', '2.9', '4.6', '1.3', 'versicolor']\n",
      "['5.2', '2.7', '3.9', '1.4', 'versicolor']\n",
      "['5', '2', '3.5', '1', 'versicolor']\n",
      "['5.9', '3', '4.2', '1.5', 'versicolor']\n",
      "['6', '2.2', '4', '1', 'versicolor']\n",
      "['6.1', '2.9', '4.7', '1.4', 'versicolor']\n",
      "['5.6', '2.9', '3.6', '1.3', 'versicolor']\n",
      "['6.7', '3.1', '4.4', '1.4', 'versicolor']\n",
      "['5.6', '3', '4.5', '1.5', 'versicolor']\n",
      "['5.8', '2.7', '4.1', '1', 'versicolor']\n",
      "['6.2', '2.2', '4.5', '1.5', 'versicolor']\n",
      "['5.6', '2.5', '3.9', '1.1', 'versicolor']\n",
      "['5.9', '3.2', '4.8', '1.8', 'versicolor']\n",
      "['6.1', '2.8', '4', '1.3', 'versicolor']\n",
      "['6.3', '2.5', '4.9', '1.5', 'versicolor']\n",
      "['6.1', '2.8', '4.7', '1.2', 'versicolor']\n",
      "['6.4', '2.9', '4.3', '1.3', 'versicolor']\n",
      "['6.6', '3', '4.4', '1.4', 'versicolor']\n",
      "['6.8', '2.8', '4.8', '1.4', 'versicolor']\n",
      "['6.7', '3', '5', '1.7', 'versicolor']\n",
      "['6', '2.9', '4.5', '1.5', 'versicolor']\n",
      "['5.7', '2.6', '3.5', '1', 'versicolor']\n",
      "['5.5', '2.4', '3.8', '1.1', 'versicolor']\n",
      "['5.5', '2.4', '3.7', '1', 'versicolor']\n",
      "['5.8', '2.7', '3.9', '1.2', 'versicolor']\n",
      "['6', '2.7', '5.1', '1.6', 'versicolor']\n",
      "['5.4', '3', '4.5', '1.5', 'versicolor']\n",
      "['6', '3.4', '4.5', '1.6', 'versicolor']\n",
      "['6.7', '3.1', '4.7', '1.5', 'versicolor']\n",
      "['6.3', '2.3', '4.4', '1.3', 'versicolor']\n",
      "['5.6', '3', '4.1', '1.3', 'versicolor']\n",
      "['5.5', '2.5', '4', '1.3', 'versicolor']\n",
      "['5.5', '2.6', '4.4', '1.2', 'versicolor']\n",
      "['6.1', '3', '4.6', '1.4', 'versicolor']\n",
      "['5.8', '2.6', '4', '1.2', 'versicolor']\n",
      "['5', '2.3', '3.3', '1', 'versicolor']\n",
      "['5.6', '2.7', '4.2', '1.3', 'versicolor']\n",
      "['5.7', '3', '4.2', '1.2', 'versicolor']\n",
      "['5.7', '2.9', '4.2', '1.3', 'versicolor']\n",
      "['6.2', '2.9', '4.3', '1.3', 'versicolor']\n",
      "['5.1', '2.5', '3', '1.1', 'versicolor']\n",
      "['5.7', '2.8', '4.1', '1.3', 'versicolor']\n",
      "['6.3', '3.3', '6', '2.5', 'virginica']\n",
      "['5.8', '2.7', '5.1', '1.9', 'virginica']\n",
      "['7.1', '3', '5.9', '2.1', 'virginica']\n",
      "['6.3', '2.9', '5.6', '1.8', 'virginica']\n",
      "['6.5', '3', '5.8', '2.2', 'virginica']\n",
      "['7.6', '3', '6.6', '2.1', 'virginica']\n",
      "['4.9', '2.5', '4.5', '1.7', 'virginica']\n",
      "['7.3', '2.9', '6.3', '1.8', 'virginica']\n",
      "['6.7', '2.5', '5.8', '1.8', 'virginica']\n",
      "['7.2', '3.6', '6.1', '2.5', 'virginica']\n",
      "['6.5', '3.2', '5.1', '2', 'virginica']\n",
      "['6.4', '2.7', '5.3', '1.9', 'virginica']\n",
      "['6.8', '3', '5.5', '2.1', 'virginica']\n",
      "['5.7', '2.5', '5', '2', 'virginica']\n",
      "['5.8', '2.8', '5.1', '2.4', 'virginica']\n",
      "['6.4', '3.2', '5.3', '2.3', 'virginica']\n",
      "['6.5', '3', '5.5', '1.8', 'virginica']\n",
      "['7.7', '3.8', '6.7', '2.2', 'virginica']\n",
      "['7.7', '2.6', '6.9', '2.3', 'virginica']\n",
      "['6', '2.2', '5', '1.5', 'virginica']\n",
      "['6.9', '3.2', '5.7', '2.3', 'virginica']\n",
      "['5.6', '2.8', '4.9', '2', 'virginica']\n",
      "['7.7', '2.8', '6.7', '2', 'virginica']\n",
      "['6.3', '2.7', '4.9', '1.8', 'virginica']\n",
      "['6.7', '3.3', '5.7', '2.1', 'virginica']\n",
      "['7.2', '3.2', '6', '1.8', 'virginica']\n",
      "['6.2', '2.8', '4.8', '1.8', 'virginica']\n",
      "['6.1', '3', '4.9', '1.8', 'virginica']\n",
      "['6.4', '2.8', '5.6', '2.1', 'virginica']\n",
      "['7.2', '3', '5.8', '1.6', 'virginica']\n",
      "['7.4', '2.8', '6.1', '1.9', 'virginica']\n",
      "['7.9', '3.8', '6.4', '2', 'virginica']\n",
      "['6.4', '2.8', '5.6', '2.2', 'virginica']\n",
      "['6.3', '2.8', '5.1', '1.5', 'virginica']\n",
      "['6.1', '2.6', '5.6', '1.4', 'virginica']\n",
      "['7.7', '3', '6.1', '2.3', 'virginica']\n",
      "['6.3', '3.4', '5.6', '2.4', 'virginica']\n",
      "['6.4', '3.1', '5.5', '1.8', 'virginica']\n",
      "['6', '3', '4.8', '1.8', 'virginica']\n",
      "['6.9', '3.1', '5.4', '2.1', 'virginica']\n",
      "['6.7', '3.1', '5.6', '2.4', 'virginica']\n",
      "['6.9', '3.1', '5.1', '2.3', 'virginica']\n",
      "['5.8', '2.7', '5.1', '1.9', 'virginica']\n",
      "['6.8', '3.2', '5.9', '2.3', 'virginica']\n",
      "['6.7', '3.3', '5.7', '2.5', 'virginica']\n",
      "['6.7', '3', '5.2', '2.3', 'virginica']\n",
      "['6.3', '2.5', '5', '1.9', 'virginica']\n",
      "['6.5', '3', '5.2', '2', 'virginica']\n",
      "['6.2', '3.4', '5.4', '2.3', 'virginica']\n",
      "['5.9', '3', '5.1', '1.8', 'virginica']\n"
     ]
    }
   ],
   "source": [
    "import csv\n",
    "\n",
    "filename = 'IRIS.csv'\n",
    "sLen = []\n",
    "sWid = []\n",
    "pLen = []\n",
    "pWid = []\n",
    "classification = []\n",
    "\n",
    "with open(filename, 'rt') as f:\n",
    "    dataFile = csv.reader(f)\n",
    "    for row in dataFile:\n",
    "\n",
    "        print(row)"
   ]
  },
  {
   "cell_type": "code",
   "execution_count": 2,
   "metadata": {
    "collapsed": false
   },
   "outputs": [
    {
     "data": {
      "image/png": "[encoded data removed]",
      "text/plain": [
       "<matplotlib.figure.Figure at 0x1d709f86d68>"
      ]
     },
     "metadata": {},
     "output_type": "display_data"
    }
   ],
   "source": [
    "import csv\n",
    "import matplotlib.pyplot as plt\n",
    "\n",
    "\n",
    "file_name = 'IRIS.csv'\n",
    "slen = []\n",
    "swid = []\n",
    "\n",
    "with open(file_name, 'r') as f:\n",
    "    data_file = list(csv.reader(f))\n",
    "    for row in data_file[1:]:\n",
    "        slen.append(row[0])\n",
    "        swid.append(row[1])\n",
    "\n",
    "plt.xlabel('sepal length')\n",
    "plt.ylabel('sepal width')\n",
    "plt.title('Scatter plot of sepal')\n",
    "plt.scatter(slen, swid)\n",
    "plt.show()"
   ]
  },
  {
   "cell_type": "code",
   "execution_count": 5,
   "metadata": {
    "collapsed": false
   },
   "outputs": [
    {
     "data": {
      "image/png": "[encoded data removed]",
      "text/plain": [
       "<matplotlib.figure.Figure at 0x1d70c5611d0>"
      ]
     },
     "metadata": {},
     "output_type": "display_data"
    }
   ],
   "source": [
    "import csv\n",
    "import matplotlib.pyplot as plt\n",
    "import matplotlib.patches as mpatches\n",
    "\n",
    "\n",
    "file_name = 'IRIS.csv'\n",
    "\n",
    "slen = []\n",
    "swid = []\n",
    "\n",
    "with open(file_name, 'r') as f:\n",
    "    data_file = list(csv.reader(f))\n",
    "    for row in data_file[1:]:\n",
    "        slen.append(row[0])\n",
    "        swid.append(row[1])\n",
    "        \n",
    "plt.xlabel('sepal length')\n",
    "plt.ylabel('sepal width')\n",
    "plt.title('Scatter plot of sepal')\n",
    "\n",
    "red_patch = mpatches.Patch(color='red', label='setosa')\n",
    "green_patch = mpatches.Patch(color='green', label='versicolor')\n",
    "blue_patch = mpatches.Patch(color='blue', label='virginica')\n",
    "plt.legend(handles=[red_patch, green_patch, blue_patch], bbox_to_anchor=(1.05, 1), loc=2, borderaxespad=0.)\n",
    "plt.scatter(slen, swid, c=['r', 'g', 'b'])\n",
    "\n",
    "plt.show()\n"
   ]
  },
  {
   "cell_type": "code",
   "execution_count": null,
   "metadata": {
    "collapsed": true
   },
   "outputs": [],
   "source": []
  }
 ],
 "metadata": {
  "anaconda-cloud": {},
  "kernelspec": {
   "display_name": "Python [default]",
   "language": "python",
   "name": "python3"
  },
  "language_info": {
   "codemirror_mode": {
    "name": "ipython",
    "version": 3
   },
   "file_extension": ".py",
   "mimetype": "text/x-python",
   "name": "python",
   "nbconvert_exporter": "python",
   "pygments_lexer": "ipython3",
   "version": "3.5.2"
  }
 },
 "nbformat": 4,
 "nbformat_minor": 1
}
